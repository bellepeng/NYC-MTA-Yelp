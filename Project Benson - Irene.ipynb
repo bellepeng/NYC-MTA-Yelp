{
 "cells": [
  {
   "cell_type": "markdown",
   "metadata": {},
   "source": [
    "### Field Description\n",
    "\n",
    "C/A,UNIT,SCP,STATION,LINENAME,DIVISION,DATE,TIME,DESC,ENTRIES,EXITS\n",
    "\n",
    "\n",
    "C/A      = Control Area (A002)<br>\n",
    "UNIT     = Remote Unit for a station (R051)<br>\n",
    "SCP      = Subunit Channel Position represents an specific address for a device (02-00-00)<br>\n",
    "STATION  = Represents the station name the device is located at<br>\n",
    "LINENAME = Represents all train lines that can be boarded at this station<br>\n",
    "           Normally lines are represented by one character.  LINENAME 456NQR repersents train server for 4, 5, 6, N, Q, and R trains.<br>\n",
    "DIVISION = Represents the Line originally the station belonged to BMT, IRT, or IND<br>\n",
    "DATE     = Represents the date (MM-DD-YY)<br>\n",
    "TIME     = Represents the time (hh:mm:ss) for a scheduled audit event<br>\n",
    "DESC     = Represent the \"REGULAR\" scheduled audit event (Normally occurs every 4 hours)<br>\n",
    "           1. Audits may occur more that 4 hours due to planning, or troubleshooting activities.\n",
    "           2. Additionally, there may be a \"RECOVR AUD\" entry: This refers to a missed audit that was recovered.\n",
    "ENTRIES  = The comulative entry register value for a device<br>\n",
    "EXIST    = The cumulative exit register value for a device<br>"
   ]
  },
  {
   "cell_type": "code",
   "execution_count": 2,
   "metadata": {},
   "outputs": [],
   "source": [
    "import re\n",
    "import pandas as pd\n",
    "import datetime as dt\n",
    "from collections import defaultdict as dd\n",
    "import matplotlib.pyplot as plt\n",
    "import numpy as np\n",
    "import pandas as pd\n",
    "import pickle\n",
    "import seaborn as sns\n",
    "\n",
    "%matplotlib inline"
   ]
  },
  {
   "cell_type": "code",
   "execution_count": 5,
   "metadata": {},
   "outputs": [],
   "source": [
    "dates = [303, 310, 317, 324, 331, 407, 414, 421, 428, 505, 512, 519, 526, 602]\n",
    "date_urls = ['http://web.mta.info/developers/data/nyct/turnstile/turnstile_180{}.txt'.format(date) for date in dates]\n",
    "df_old = pd.concat([pd.read_csv(url) for url in date_urls]).to_csv('origin.csv')"
   ]
  },
  {
   "cell_type": "code",
   "execution_count": 190,
   "metadata": {
    "scrolled": true
   },
   "outputs": [],
   "source": [
    "df = pd.read_csv('origin.csv')\n",
    "df.reset_index(drop=True).head()\n",
    "df.drop('Unnamed: 0', axis=1, inplace=True)"
   ]
  },
  {
   "cell_type": "code",
   "execution_count": 191,
   "metadata": {
    "scrolled": true
   },
   "outputs": [
    {
     "data": {
      "text/plain": [
       "Index(['C/A', 'UNIT', 'SCP', 'STATION', 'LINENAME', 'DIVISION', 'DATE', 'TIME',\n",
       "       'DESC', 'ENTRIES',\n",
       "       'EXITS                                                               '],\n",
       "      dtype='object')"
      ]
     },
     "execution_count": 191,
     "metadata": {},
     "output_type": "execute_result"
    }
   ],
   "source": [
    "df.columns"
   ]
  },
  {
   "cell_type": "code",
   "execution_count": 192,
   "metadata": {},
   "outputs": [],
   "source": [
    "df.rename(columns={column:column.strip() for column in df.columns}, inplace=True)"
   ]
  },
  {
   "cell_type": "code",
   "execution_count": 193,
   "metadata": {},
   "outputs": [
    {
     "name": "stdout",
     "output_type": "stream",
     "text": [
      "<class 'pandas.core.frame.DataFrame'>\n",
      "RangeIndex: 2761040 entries, 0 to 2761039\n",
      "Data columns (total 11 columns):\n",
      "C/A         object\n",
      "UNIT        object\n",
      "SCP         object\n",
      "STATION     object\n",
      "LINENAME    object\n",
      "DIVISION    object\n",
      "DATE        object\n",
      "TIME        object\n",
      "DESC        object\n",
      "ENTRIES     int64\n",
      "EXITS       int64\n",
      "dtypes: int64(2), object(9)\n",
      "memory usage: 231.7+ MB\n"
     ]
    }
   ],
   "source": [
    "df.info()"
   ]
  },
  {
   "cell_type": "code",
   "execution_count": 194,
   "metadata": {},
   "outputs": [
    {
     "data": {
      "text/html": [
       "<div>\n",
       "<style scoped>\n",
       "    .dataframe tbody tr th:only-of-type {\n",
       "        vertical-align: middle;\n",
       "    }\n",
       "\n",
       "    .dataframe tbody tr th {\n",
       "        vertical-align: top;\n",
       "    }\n",
       "\n",
       "    .dataframe thead th {\n",
       "        text-align: right;\n",
       "    }\n",
       "</style>\n",
       "<table border=\"1\" class=\"dataframe\">\n",
       "  <thead>\n",
       "    <tr style=\"text-align: right;\">\n",
       "      <th></th>\n",
       "      <th>C/A</th>\n",
       "      <th>UNIT</th>\n",
       "      <th>SCP</th>\n",
       "      <th>STATION</th>\n",
       "      <th>LINENAME</th>\n",
       "      <th>DIVISION</th>\n",
       "      <th>DATE</th>\n",
       "      <th>TIME</th>\n",
       "      <th>DESC</th>\n",
       "      <th>ENTRIES</th>\n",
       "      <th>EXITS</th>\n",
       "    </tr>\n",
       "  </thead>\n",
       "  <tbody>\n",
       "    <tr>\n",
       "      <th>0</th>\n",
       "      <td>A002</td>\n",
       "      <td>R051</td>\n",
       "      <td>02-00-00</td>\n",
       "      <td>59 ST</td>\n",
       "      <td>NQR456W</td>\n",
       "      <td>BMT</td>\n",
       "      <td>02/24/2018</td>\n",
       "      <td>03:00:00</td>\n",
       "      <td>RECOVR AUD</td>\n",
       "      <td>6527780</td>\n",
       "      <td>2210496</td>\n",
       "    </tr>\n",
       "    <tr>\n",
       "      <th>1</th>\n",
       "      <td>A002</td>\n",
       "      <td>R051</td>\n",
       "      <td>02-00-00</td>\n",
       "      <td>59 ST</td>\n",
       "      <td>NQR456W</td>\n",
       "      <td>BMT</td>\n",
       "      <td>02/24/2018</td>\n",
       "      <td>07:00:00</td>\n",
       "      <td>REGULAR</td>\n",
       "      <td>6527794</td>\n",
       "      <td>2210507</td>\n",
       "    </tr>\n",
       "    <tr>\n",
       "      <th>2</th>\n",
       "      <td>A002</td>\n",
       "      <td>R051</td>\n",
       "      <td>02-00-00</td>\n",
       "      <td>59 ST</td>\n",
       "      <td>NQR456W</td>\n",
       "      <td>BMT</td>\n",
       "      <td>02/24/2018</td>\n",
       "      <td>11:00:00</td>\n",
       "      <td>REGULAR</td>\n",
       "      <td>6527838</td>\n",
       "      <td>2210585</td>\n",
       "    </tr>\n",
       "    <tr>\n",
       "      <th>3</th>\n",
       "      <td>A002</td>\n",
       "      <td>R051</td>\n",
       "      <td>02-00-00</td>\n",
       "      <td>59 ST</td>\n",
       "      <td>NQR456W</td>\n",
       "      <td>BMT</td>\n",
       "      <td>02/24/2018</td>\n",
       "      <td>15:00:00</td>\n",
       "      <td>REGULAR</td>\n",
       "      <td>6527994</td>\n",
       "      <td>2210644</td>\n",
       "    </tr>\n",
       "    <tr>\n",
       "      <th>4</th>\n",
       "      <td>A002</td>\n",
       "      <td>R051</td>\n",
       "      <td>02-00-00</td>\n",
       "      <td>59 ST</td>\n",
       "      <td>NQR456W</td>\n",
       "      <td>BMT</td>\n",
       "      <td>02/24/2018</td>\n",
       "      <td>19:00:00</td>\n",
       "      <td>REGULAR</td>\n",
       "      <td>6528278</td>\n",
       "      <td>2210705</td>\n",
       "    </tr>\n",
       "  </tbody>\n",
       "</table>\n",
       "</div>"
      ],
      "text/plain": [
       "    C/A  UNIT       SCP STATION LINENAME DIVISION        DATE      TIME  \\\n",
       "0  A002  R051  02-00-00   59 ST  NQR456W      BMT  02/24/2018  03:00:00   \n",
       "1  A002  R051  02-00-00   59 ST  NQR456W      BMT  02/24/2018  07:00:00   \n",
       "2  A002  R051  02-00-00   59 ST  NQR456W      BMT  02/24/2018  11:00:00   \n",
       "3  A002  R051  02-00-00   59 ST  NQR456W      BMT  02/24/2018  15:00:00   \n",
       "4  A002  R051  02-00-00   59 ST  NQR456W      BMT  02/24/2018  19:00:00   \n",
       "\n",
       "         DESC  ENTRIES    EXITS  \n",
       "0  RECOVR AUD  6527780  2210496  \n",
       "1     REGULAR  6527794  2210507  \n",
       "2     REGULAR  6527838  2210585  \n",
       "3     REGULAR  6527994  2210644  \n",
       "4     REGULAR  6528278  2210705  "
      ]
     },
     "execution_count": 194,
     "metadata": {},
     "output_type": "execute_result"
    }
   ],
   "source": [
    "df.head()"
   ]
  },
  {
   "cell_type": "code",
   "execution_count": 195,
   "metadata": {},
   "outputs": [],
   "source": [
    "# Check how many RECOVER we have\n",
    "len(df[df.DESC == 'RECOVR AUD']) / len(df)\n",
    "\n",
    "# Drop the RECOVR AUD\n",
    "df = df[df.DESC == 'REGULAR']"
   ]
  },
  {
   "cell_type": "code",
   "execution_count": 196,
   "metadata": {},
   "outputs": [
    {
     "data": {
      "text/html": [
       "<div>\n",
       "<style scoped>\n",
       "    .dataframe tbody tr th:only-of-type {\n",
       "        vertical-align: middle;\n",
       "    }\n",
       "\n",
       "    .dataframe tbody tr th {\n",
       "        vertical-align: top;\n",
       "    }\n",
       "\n",
       "    .dataframe thead th {\n",
       "        text-align: right;\n",
       "    }\n",
       "</style>\n",
       "<table border=\"1\" class=\"dataframe\">\n",
       "  <thead>\n",
       "    <tr style=\"text-align: right;\">\n",
       "      <th></th>\n",
       "      <th>C/A</th>\n",
       "      <th>UNIT</th>\n",
       "      <th>SCP</th>\n",
       "      <th>STATION</th>\n",
       "      <th>DATETIME</th>\n",
       "      <th>ENTRIES</th>\n",
       "    </tr>\n",
       "  </thead>\n",
       "  <tbody>\n",
       "    <tr>\n",
       "      <th>0</th>\n",
       "      <td>A002</td>\n",
       "      <td>R051</td>\n",
       "      <td>02-00-00</td>\n",
       "      <td>59 ST</td>\n",
       "      <td>2018-02-24 07:00:00</td>\n",
       "      <td>1</td>\n",
       "    </tr>\n",
       "    <tr>\n",
       "      <th>1833832</th>\n",
       "      <td>R143</td>\n",
       "      <td>R032</td>\n",
       "      <td>02-03-00</td>\n",
       "      <td>TIMES SQ-42 ST</td>\n",
       "      <td>2018-03-05 07:00:00</td>\n",
       "      <td>1</td>\n",
       "    </tr>\n",
       "    <tr>\n",
       "      <th>1833834</th>\n",
       "      <td>R143</td>\n",
       "      <td>R032</td>\n",
       "      <td>02-03-00</td>\n",
       "      <td>TIMES SQ-42 ST</td>\n",
       "      <td>2018-03-05 15:00:00</td>\n",
       "      <td>1</td>\n",
       "    </tr>\n",
       "    <tr>\n",
       "      <th>1833835</th>\n",
       "      <td>R143</td>\n",
       "      <td>R032</td>\n",
       "      <td>02-03-00</td>\n",
       "      <td>TIMES SQ-42 ST</td>\n",
       "      <td>2018-03-05 19:00:00</td>\n",
       "      <td>1</td>\n",
       "    </tr>\n",
       "    <tr>\n",
       "      <th>1833836</th>\n",
       "      <td>R143</td>\n",
       "      <td>R032</td>\n",
       "      <td>02-03-00</td>\n",
       "      <td>TIMES SQ-42 ST</td>\n",
       "      <td>2018-03-05 23:00:00</td>\n",
       "      <td>1</td>\n",
       "    </tr>\n",
       "  </tbody>\n",
       "</table>\n",
       "</div>"
      ],
      "text/plain": [
       "          C/A  UNIT       SCP         STATION            DATETIME  ENTRIES\n",
       "0        A002  R051  02-00-00           59 ST 2018-02-24 07:00:00        1\n",
       "1833832  R143  R032  02-03-00  TIMES SQ-42 ST 2018-03-05 07:00:00        1\n",
       "1833834  R143  R032  02-03-00  TIMES SQ-42 ST 2018-03-05 15:00:00        1\n",
       "1833835  R143  R032  02-03-00  TIMES SQ-42 ST 2018-03-05 19:00:00        1\n",
       "1833836  R143  R032  02-03-00  TIMES SQ-42 ST 2018-03-05 23:00:00        1"
      ]
     },
     "execution_count": 196,
     "metadata": {},
     "output_type": "execute_result"
    }
   ],
   "source": [
    "# Combine DATE & TIME columns and convert them to datetime format\n",
    "df['DATETIME'] = pd.to_datetime(df.DATE+\" \"+df.TIME, format='%m/%d/%Y %H:%M:%S')\n",
    "\n",
    "# Check duplicates - No. Because we dropped RECOVR AUD\n",
    "df.groupby(['C/A', 'UNIT', 'SCP','STATION', 'DATETIME']).ENTRIES.count().reset_index().sort_values(\"ENTRIES\", ascending=False).head()"
   ]
  },
  {
   "cell_type": "code",
   "execution_count": 199,
   "metadata": {},
   "outputs": [],
   "source": [
    "# Use daily count to find the most popular station\n",
    "dailycount = df.groupby(['C/A', 'UNIT', 'SCP', 'STATION', 'DATE'])['ENTRIES', 'EXITS'].first().reset_index()\n",
    "\n",
    "# Create previous date and previous entries columns for the calculation\n",
    "dailycount[['PREVDATE', 'PREVENTRIES', 'PREVEXITS']] = dailycount.groupby(['C/A', 'UNIT', 'SCP', 'STATION', 'STATION'])['DATE', 'ENTRIES', 'EXITS'].transform(lambda x: x.shift(1))\n",
    "\n",
    "# Drop the NaN from shifting\n",
    "dailycount.dropna(subset=['PREVDATE'], inplace=True)"
   ]
  },
  {
   "cell_type": "code",
   "execution_count": 213,
   "metadata": {},
   "outputs": [],
   "source": [
    "# Calculate the diff\n",
    "dailycount['ENTRIES_DIFF'] = dailycount['ENTRIES'] - dailycount['PREVENTRIES']\n",
    "dailycount['EXITS_DIFF'] = dailycount['EXITS'] - dailycount['PREVEXITS']\n",
    "dailycount['DIFF'] = dailycount['ENTRIES_DIFF'] + dailycount['EXITS_DIFF']"
   ]
  },
  {
   "cell_type": "code",
   "execution_count": 216,
   "metadata": {},
   "outputs": [],
   "source": [
    "# Select the reasonable numbers (drop negatives and greater than 1 million)\n",
    "daily = dailycount[(dailycount.DIFF > 0 ) & (dailycount.DIFF < 1000000)]"
   ]
  },
  {
   "cell_type": "code",
   "execution_count": 217,
   "metadata": {},
   "outputs": [
    {
     "data": {
      "text/html": [
       "<div>\n",
       "<style scoped>\n",
       "    .dataframe tbody tr th:only-of-type {\n",
       "        vertical-align: middle;\n",
       "    }\n",
       "\n",
       "    .dataframe tbody tr th {\n",
       "        vertical-align: top;\n",
       "    }\n",
       "\n",
       "    .dataframe thead th {\n",
       "        text-align: right;\n",
       "    }\n",
       "</style>\n",
       "<table border=\"1\" class=\"dataframe\">\n",
       "  <thead>\n",
       "    <tr style=\"text-align: right;\">\n",
       "      <th></th>\n",
       "      <th>C/A</th>\n",
       "      <th>UNIT</th>\n",
       "      <th>SCP</th>\n",
       "      <th>STATION</th>\n",
       "      <th>DATE</th>\n",
       "      <th>ENTRIES</th>\n",
       "      <th>EXITS</th>\n",
       "      <th>PREVDATE</th>\n",
       "      <th>PREVENTRIES</th>\n",
       "      <th>PREVEXITS</th>\n",
       "      <th>ENTRIES_DIFF</th>\n",
       "      <th>EXITS_DIFF</th>\n",
       "      <th>DIFF</th>\n",
       "    </tr>\n",
       "  </thead>\n",
       "  <tbody>\n",
       "    <tr>\n",
       "      <th>1</th>\n",
       "      <td>A002</td>\n",
       "      <td>R051</td>\n",
       "      <td>02-00-00</td>\n",
       "      <td>59 ST</td>\n",
       "      <td>02/25/2018</td>\n",
       "      <td>6528417</td>\n",
       "      <td>2210734</td>\n",
       "      <td>02/24/2018</td>\n",
       "      <td>6527794.0</td>\n",
       "      <td>2210507.0</td>\n",
       "      <td>623.0</td>\n",
       "      <td>227.0</td>\n",
       "      <td>850.0</td>\n",
       "    </tr>\n",
       "    <tr>\n",
       "      <th>2</th>\n",
       "      <td>A002</td>\n",
       "      <td>R051</td>\n",
       "      <td>02-00-00</td>\n",
       "      <td>59 ST</td>\n",
       "      <td>02/26/2018</td>\n",
       "      <td>6528905</td>\n",
       "      <td>2210907</td>\n",
       "      <td>02/25/2018</td>\n",
       "      <td>6528417.0</td>\n",
       "      <td>2210734.0</td>\n",
       "      <td>488.0</td>\n",
       "      <td>173.0</td>\n",
       "      <td>661.0</td>\n",
       "    </tr>\n",
       "    <tr>\n",
       "      <th>3</th>\n",
       "      <td>A002</td>\n",
       "      <td>R051</td>\n",
       "      <td>02-00-00</td>\n",
       "      <td>59 ST</td>\n",
       "      <td>02/27/2018</td>\n",
       "      <td>6530309</td>\n",
       "      <td>2211297</td>\n",
       "      <td>02/26/2018</td>\n",
       "      <td>6528905.0</td>\n",
       "      <td>2210907.0</td>\n",
       "      <td>1404.0</td>\n",
       "      <td>390.0</td>\n",
       "      <td>1794.0</td>\n",
       "    </tr>\n",
       "    <tr>\n",
       "      <th>4</th>\n",
       "      <td>A002</td>\n",
       "      <td>R051</td>\n",
       "      <td>02-00-00</td>\n",
       "      <td>59 ST</td>\n",
       "      <td>02/28/2018</td>\n",
       "      <td>6531774</td>\n",
       "      <td>2211800</td>\n",
       "      <td>02/27/2018</td>\n",
       "      <td>6530309.0</td>\n",
       "      <td>2211297.0</td>\n",
       "      <td>1465.0</td>\n",
       "      <td>503.0</td>\n",
       "      <td>1968.0</td>\n",
       "    </tr>\n",
       "    <tr>\n",
       "      <th>5</th>\n",
       "      <td>A002</td>\n",
       "      <td>R051</td>\n",
       "      <td>02-00-00</td>\n",
       "      <td>59 ST</td>\n",
       "      <td>03/01/2018</td>\n",
       "      <td>6533215</td>\n",
       "      <td>2212327</td>\n",
       "      <td>02/28/2018</td>\n",
       "      <td>6531774.0</td>\n",
       "      <td>2211800.0</td>\n",
       "      <td>1441.0</td>\n",
       "      <td>527.0</td>\n",
       "      <td>1968.0</td>\n",
       "    </tr>\n",
       "  </tbody>\n",
       "</table>\n",
       "</div>"
      ],
      "text/plain": [
       "    C/A  UNIT       SCP STATION        DATE  ENTRIES    EXITS    PREVDATE  \\\n",
       "1  A002  R051  02-00-00   59 ST  02/25/2018  6528417  2210734  02/24/2018   \n",
       "2  A002  R051  02-00-00   59 ST  02/26/2018  6528905  2210907  02/25/2018   \n",
       "3  A002  R051  02-00-00   59 ST  02/27/2018  6530309  2211297  02/26/2018   \n",
       "4  A002  R051  02-00-00   59 ST  02/28/2018  6531774  2211800  02/27/2018   \n",
       "5  A002  R051  02-00-00   59 ST  03/01/2018  6533215  2212327  02/28/2018   \n",
       "\n",
       "   PREVENTRIES  PREVEXITS  ENTRIES_DIFF  EXITS_DIFF    DIFF  \n",
       "1    6527794.0  2210507.0         623.0       227.0   850.0  \n",
       "2    6528417.0  2210734.0         488.0       173.0   661.0  \n",
       "3    6528905.0  2210907.0        1404.0       390.0  1794.0  \n",
       "4    6530309.0  2211297.0        1465.0       503.0  1968.0  \n",
       "5    6531774.0  2211800.0        1441.0       527.0  1968.0  "
      ]
     },
     "execution_count": 217,
     "metadata": {},
     "output_type": "execute_result"
    }
   ],
   "source": [
    "daily.head()"
   ]
  },
  {
   "cell_type": "code",
   "execution_count": 278,
   "metadata": {
    "scrolled": false
   },
   "outputs": [
    {
     "data": {
      "text/html": [
       "<div>\n",
       "<style scoped>\n",
       "    .dataframe tbody tr th:only-of-type {\n",
       "        vertical-align: middle;\n",
       "    }\n",
       "\n",
       "    .dataframe tbody tr th {\n",
       "        vertical-align: top;\n",
       "    }\n",
       "\n",
       "    .dataframe thead th {\n",
       "        text-align: right;\n",
       "    }\n",
       "</style>\n",
       "<table border=\"1\" class=\"dataframe\">\n",
       "  <thead>\n",
       "    <tr style=\"text-align: right;\">\n",
       "      <th></th>\n",
       "      <th>STATION</th>\n",
       "      <th>DIFF</th>\n",
       "    </tr>\n",
       "  </thead>\n",
       "  <tbody>\n",
       "    <tr>\n",
       "      <th>0</th>\n",
       "      <td>34 ST-PENN STA</td>\n",
       "      <td>25537012.0</td>\n",
       "    </tr>\n",
       "    <tr>\n",
       "      <th>1</th>\n",
       "      <td>GRD CNTRL-42 ST</td>\n",
       "      <td>22522009.0</td>\n",
       "    </tr>\n",
       "    <tr>\n",
       "      <th>2</th>\n",
       "      <td>34 ST-HERALD SQ</td>\n",
       "      <td>17923400.0</td>\n",
       "    </tr>\n",
       "    <tr>\n",
       "      <th>3</th>\n",
       "      <td>14 ST-UNION SQ</td>\n",
       "      <td>16946977.0</td>\n",
       "    </tr>\n",
       "    <tr>\n",
       "      <th>4</th>\n",
       "      <td>23 ST</td>\n",
       "      <td>16286806.0</td>\n",
       "    </tr>\n",
       "    <tr>\n",
       "      <th>5</th>\n",
       "      <td>TIMES SQ-42 ST</td>\n",
       "      <td>16253348.0</td>\n",
       "    </tr>\n",
       "    <tr>\n",
       "      <th>6</th>\n",
       "      <td>FULTON ST</td>\n",
       "      <td>14456647.0</td>\n",
       "    </tr>\n",
       "    <tr>\n",
       "      <th>7</th>\n",
       "      <td>42 ST-PORT AUTH</td>\n",
       "      <td>14035746.0</td>\n",
       "    </tr>\n",
       "    <tr>\n",
       "      <th>8</th>\n",
       "      <td>86 ST</td>\n",
       "      <td>13161570.0</td>\n",
       "    </tr>\n",
       "    <tr>\n",
       "      <th>9</th>\n",
       "      <td>125 ST</td>\n",
       "      <td>11591926.0</td>\n",
       "    </tr>\n",
       "  </tbody>\n",
       "</table>\n",
       "</div>"
      ],
      "text/plain": [
       "           STATION        DIFF\n",
       "0   34 ST-PENN STA  25537012.0\n",
       "1  GRD CNTRL-42 ST  22522009.0\n",
       "2  34 ST-HERALD SQ  17923400.0\n",
       "3   14 ST-UNION SQ  16946977.0\n",
       "4            23 ST  16286806.0\n",
       "5   TIMES SQ-42 ST  16253348.0\n",
       "6        FULTON ST  14456647.0\n",
       "7  42 ST-PORT AUTH  14035746.0\n",
       "8            86 ST  13161570.0\n",
       "9           125 ST  11591926.0"
      ]
     },
     "execution_count": 278,
     "metadata": {},
     "output_type": "execute_result"
    }
   ],
   "source": [
    "# Find top 10\n",
    "mostpopular = daily.groupby(['STATION'])['STATION', 'DIFF'].sum()\n",
    "mostpopular.sort_values('DIFF', ascending=False, inplace=True)\n",
    "mostpopular.reset_index(level=0, inplace=True)\n",
    "mostpopular[0:10]"
   ]
  },
  {
   "cell_type": "code",
   "execution_count": 458,
   "metadata": {},
   "outputs": [
    {
     "name": "stdout",
     "output_type": "stream",
     "text": [
      "Current size: [8.0, 5.5]\n"
     ]
    }
   ],
   "source": [
    "fig_size = plt.rcParams[\"figure.figsize\"]\n",
    "print (\"Current size:\", fig_size)\n",
    "fig_size[0] = 20\n",
    "fig_size[1] = 10\n",
    "plt.rcParams[\"figure.figsize\"] = fig_size"
   ]
  },
  {
   "cell_type": "code",
   "execution_count": 459,
   "metadata": {
    "scrolled": false
   },
   "outputs": [
    {
     "data": {
      "text/plain": [
       "Text(0.5,0,'Daily Traffic (10 million)')"
      ]
     },
     "execution_count": 459,
     "metadata": {},
     "output_type": "execute_result"
    },
    {
     "data": {
      "image/png": "[encoded data removed]",
      "text/plain": [
       "<Figure size 1440x720 with 1 Axes>"
      ]
     },
     "metadata": {},
     "output_type": "display_data"
    }
   ],
   "source": [
    "# Ploting the top 10\n",
    "plotsta = mostpopular[0:10]\n",
    "plot = plt.barh(plotsta.STATION, plotsta.DIFF)\n",
    "plot = plt.style.use('seaborn')\n",
    "plt.rc('xtick', labelsize=22)\n",
    "plt.rc('ytick', labelsize=18)\n",
    "plt.xlabel('Daily Traffic (10 million)', fontsize=22)"
   ]
  },
  {
   "cell_type": "code",
   "execution_count": 440,
   "metadata": {},
   "outputs": [],
   "source": [
    "# Merge the most popular station with zipcode\n",
    "Zipcode = pd.read_csv('zipcode.csv')\n",
    "Zipcode.columns = ['STATION', 'ZIPCODE']\n",
    "merged = pd.merge(mostpopular, Zipcode, how='left', on='STATION')"
   ]
  },
  {
   "cell_type": "code",
   "execution_count": 60,
   "metadata": {},
   "outputs": [],
   "source": [
    "# Merge the most popular station with Station_Latitude & Station_Longitude\n",
    "df2 = pd.read_csv('StationEntrances.csv')\n",
    "LatLong = df2[['Station_Name', 'Station_Latitude', 'Station_Longitude']]\n",
    "LatLong = LatLong.drop_duplicates(subset=['Station_Name']).reset_index(drop=True)\n",
    "LatLong['Station_Name'] = LatLong['Station_Name'].apply(lambda x: x.upper())\n",
    "LatLong['STATION'] = [re.sub(r\"(\\d)(ST)\", r\"1\", Name) for Name in LatLong.Station_Name]\n",
    "LatLong['STATION'] = [re.sub(r\"(ND|RD|TH)\", r\"\", Name) for Name in LatLong.Station_Name]\n",
    "LatLong.drop(['Station_Name'], axis=1, inplace=True)\n",
    "merged = pd.merge(mostpopular, LatLong, how='left', on='STATION')"
   ]
  }
 ],
 "metadata": {
  "kernelspec": {
   "display_name": "Python 3",
   "language": "python",
   "name": "python3"
  },
  "language_info": {
   "codemirror_mode": {
    "name": "ipython",
    "version": 3
   },
   "file_extension": ".py",
   "mimetype": "text/x-python",
   "name": "python",
   "nbconvert_exporter": "python",
   "pygments_lexer": "ipython3",
   "version": "3.6.5"
  }
 },
 "nbformat": 4,
 "nbformat_minor": 2
}
